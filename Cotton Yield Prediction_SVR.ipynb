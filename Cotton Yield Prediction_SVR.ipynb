{
 "cells": [
  {
   "cell_type": "code",
   "execution_count": 2,
   "id": "1877597b",
   "metadata": {},
   "outputs": [],
   "source": [
    "import numpy as np\n",
    "import matplotlib.pyplot as plt\n",
    "import pandas as pd\n",
    "import seaborn as sbn"
   ]
  },
  {
   "cell_type": "code",
   "execution_count": 3,
   "id": "87d42efd",
   "metadata": {},
   "outputs": [],
   "source": [
    "data = pd.read_csv('D:/ML in R and Python/cotton.csv')"
   ]
  },
  {
   "cell_type": "code",
   "execution_count": 4,
   "id": "96fa504c",
   "metadata": {},
   "outputs": [
    {
     "name": "stdout",
     "output_type": "stream",
     "text": [
      "SR.No\n",
      "District\n",
      "Taluka\n",
      "Village\n",
      "FarmerName\n",
      "Latitude\n",
      "Longitude\n",
      "Irrigation\n",
      "Mix_cropping\n",
      "RevenueCircle\n",
      "Yield\n",
      "TotalRainfallJune\n",
      "RainyDaysJune\n",
      "TotalRainfallJuly\n",
      "RainyDaysJuly\n",
      "TotalRainfallAug\n",
      "RainyDaysAug\n",
      "TotalRainfallSep\n",
      "RainyDaysSep\n",
      "TotalRainfallOct\n",
      "RainyDaysOct\n",
      "2019-06-04_LSWI\n",
      "2019-06-14_LSWI\n",
      "2019-08-23_LSWI\n",
      "2019-09-22_LSWI\n",
      "2019-10-02_LSWI\n",
      "2019-10-07_LSWI\n",
      "2019-10-12_LSWI\n",
      "2019-10-17_LSWI\n",
      "2019-06-04_NDVI\n",
      "2019-06-14_NDVI\n",
      "2019-08-23_NDVI\n",
      "2019-09-22_NDVI\n",
      "2019-10-02_NDVI\n",
      "2019-10-07_NDVI\n",
      "2019-10-12_NDVI\n",
      "2019-10-17_NDVI\n",
      "2019-10-27_NDVI\n",
      "2019-06-04_RedEdge\n",
      "2019-06-09_RedEdge\n",
      "2019-06-14_RedEdge\n",
      "2019-08-23_RedEdge\n",
      "2019-09-22_RedEdge\n",
      "2019-10-02_RedEdge\n",
      "2019-10-07_RedEdge\n",
      "2019-10-12_RedEdge\n",
      "2019-10-17_RedEdge\n",
      "2019-10-27_RedEdge\n"
     ]
    }
   ],
   "source": [
    "for col in data.columns:\n",
    "    print(col)"
   ]
  },
  {
   "cell_type": "code",
   "execution_count": 5,
   "id": "6b6071fe",
   "metadata": {},
   "outputs": [
    {
     "data": {
      "text/html": [
       "<div>\n",
       "<style scoped>\n",
       "    .dataframe tbody tr th:only-of-type {\n",
       "        vertical-align: middle;\n",
       "    }\n",
       "\n",
       "    .dataframe tbody tr th {\n",
       "        vertical-align: top;\n",
       "    }\n",
       "\n",
       "    .dataframe thead th {\n",
       "        text-align: right;\n",
       "    }\n",
       "</style>\n",
       "<table border=\"1\" class=\"dataframe\">\n",
       "  <thead>\n",
       "    <tr style=\"text-align: right;\">\n",
       "      <th></th>\n",
       "      <th>SR.No</th>\n",
       "      <th>Latitude</th>\n",
       "      <th>Longitude</th>\n",
       "      <th>Yield</th>\n",
       "      <th>TotalRainfallJune</th>\n",
       "      <th>RainyDaysJune</th>\n",
       "      <th>TotalRainfallJuly</th>\n",
       "      <th>RainyDaysJuly</th>\n",
       "      <th>TotalRainfallAug</th>\n",
       "      <th>RainyDaysAug</th>\n",
       "      <th>...</th>\n",
       "      <th>2019-06-04_RedEdge</th>\n",
       "      <th>2019-06-09_RedEdge</th>\n",
       "      <th>2019-06-14_RedEdge</th>\n",
       "      <th>2019-08-23_RedEdge</th>\n",
       "      <th>2019-09-22_RedEdge</th>\n",
       "      <th>2019-10-02_RedEdge</th>\n",
       "      <th>2019-10-07_RedEdge</th>\n",
       "      <th>2019-10-12_RedEdge</th>\n",
       "      <th>2019-10-17_RedEdge</th>\n",
       "      <th>2019-10-27_RedEdge</th>\n",
       "    </tr>\n",
       "    <tr>\n",
       "      <th>Taluka</th>\n",
       "      <th></th>\n",
       "      <th></th>\n",
       "      <th></th>\n",
       "      <th></th>\n",
       "      <th></th>\n",
       "      <th></th>\n",
       "      <th></th>\n",
       "      <th></th>\n",
       "      <th></th>\n",
       "      <th></th>\n",
       "      <th></th>\n",
       "      <th></th>\n",
       "      <th></th>\n",
       "      <th></th>\n",
       "      <th></th>\n",
       "      <th></th>\n",
       "      <th></th>\n",
       "      <th></th>\n",
       "      <th></th>\n",
       "      <th></th>\n",
       "      <th></th>\n",
       "    </tr>\n",
       "  </thead>\n",
       "  <tbody>\n",
       "    <tr>\n",
       "      <th>Gangapur</th>\n",
       "      <td>25.5</td>\n",
       "      <td>19.871832</td>\n",
       "      <td>74.993459</td>\n",
       "      <td>665.614000</td>\n",
       "      <td>100.625000</td>\n",
       "      <td>5.100000</td>\n",
       "      <td>177.150000</td>\n",
       "      <td>10.300000</td>\n",
       "      <td>96.075000</td>\n",
       "      <td>9.900000</td>\n",
       "      <td>...</td>\n",
       "      <td>0.064119</td>\n",
       "      <td>0.072206</td>\n",
       "      <td>0.068349</td>\n",
       "      <td>0.282570</td>\n",
       "      <td>0.382768</td>\n",
       "      <td>0.334540</td>\n",
       "      <td>0.354904</td>\n",
       "      <td>0.330005</td>\n",
       "      <td>0.291112</td>\n",
       "      <td>0.369715</td>\n",
       "    </tr>\n",
       "    <tr>\n",
       "      <th>Kannad</th>\n",
       "      <td>73.0</td>\n",
       "      <td>20.195035</td>\n",
       "      <td>75.164920</td>\n",
       "      <td>667.085556</td>\n",
       "      <td>102.500000</td>\n",
       "      <td>6.444444</td>\n",
       "      <td>249.694444</td>\n",
       "      <td>13.444444</td>\n",
       "      <td>138.583333</td>\n",
       "      <td>13.555556</td>\n",
       "      <td>...</td>\n",
       "      <td>0.060673</td>\n",
       "      <td>0.062046</td>\n",
       "      <td>0.058194</td>\n",
       "      <td>0.354272</td>\n",
       "      <td>0.417935</td>\n",
       "      <td>0.358208</td>\n",
       "      <td>0.378951</td>\n",
       "      <td>0.359543</td>\n",
       "      <td>0.315090</td>\n",
       "      <td>0.307837</td>\n",
       "    </tr>\n",
       "    <tr>\n",
       "      <th>Khuldabad</th>\n",
       "      <td>118.0</td>\n",
       "      <td>20.094829</td>\n",
       "      <td>75.230258</td>\n",
       "      <td>622.364444</td>\n",
       "      <td>127.666667</td>\n",
       "      <td>9.111111</td>\n",
       "      <td>161.388889</td>\n",
       "      <td>14.222222</td>\n",
       "      <td>138.833333</td>\n",
       "      <td>11.888889</td>\n",
       "      <td>...</td>\n",
       "      <td>0.064566</td>\n",
       "      <td>0.065785</td>\n",
       "      <td>0.068041</td>\n",
       "      <td>0.223602</td>\n",
       "      <td>0.403111</td>\n",
       "      <td>0.421573</td>\n",
       "      <td>0.448026</td>\n",
       "      <td>0.299188</td>\n",
       "      <td>0.346125</td>\n",
       "      <td>0.228641</td>\n",
       "    </tr>\n",
       "    <tr>\n",
       "      <th>Sillod</th>\n",
       "      <td>165.5</td>\n",
       "      <td>20.389834</td>\n",
       "      <td>75.586619</td>\n",
       "      <td>653.664000</td>\n",
       "      <td>126.350000</td>\n",
       "      <td>6.800000</td>\n",
       "      <td>225.325000</td>\n",
       "      <td>12.600000</td>\n",
       "      <td>143.900000</td>\n",
       "      <td>12.400000</td>\n",
       "      <td>...</td>\n",
       "      <td>0.063472</td>\n",
       "      <td>0.065785</td>\n",
       "      <td>0.065496</td>\n",
       "      <td>0.226933</td>\n",
       "      <td>0.399355</td>\n",
       "      <td>0.406418</td>\n",
       "      <td>0.435265</td>\n",
       "      <td>0.325152</td>\n",
       "      <td>0.319093</td>\n",
       "      <td>0.244630</td>\n",
       "    </tr>\n",
       "    <tr>\n",
       "      <th>Vaijapur</th>\n",
       "      <td>215.5</td>\n",
       "      <td>19.876945</td>\n",
       "      <td>74.990764</td>\n",
       "      <td>607.790000</td>\n",
       "      <td>73.675000</td>\n",
       "      <td>7.100000</td>\n",
       "      <td>153.375000</td>\n",
       "      <td>12.200000</td>\n",
       "      <td>121.975000</td>\n",
       "      <td>10.800000</td>\n",
       "      <td>...</td>\n",
       "      <td>0.058226</td>\n",
       "      <td>0.068279</td>\n",
       "      <td>0.063449</td>\n",
       "      <td>0.237464</td>\n",
       "      <td>0.389435</td>\n",
       "      <td>0.365430</td>\n",
       "      <td>0.403890</td>\n",
       "      <td>0.334996</td>\n",
       "      <td>0.330520</td>\n",
       "      <td>0.360996</td>\n",
       "    </tr>\n",
       "  </tbody>\n",
       "</table>\n",
       "<p>5 rows × 41 columns</p>\n",
       "</div>"
      ],
      "text/plain": [
       "           SR.No   Latitude  Longitude       Yield  TotalRainfallJune  \\\n",
       "Taluka                                                                  \n",
       "Gangapur    25.5  19.871832  74.993459  665.614000         100.625000   \n",
       "Kannad      73.0  20.195035  75.164920  667.085556         102.500000   \n",
       "Khuldabad  118.0  20.094829  75.230258  622.364444         127.666667   \n",
       "Sillod     165.5  20.389834  75.586619  653.664000         126.350000   \n",
       "Vaijapur   215.5  19.876945  74.990764  607.790000          73.675000   \n",
       "\n",
       "           RainyDaysJune  TotalRainfallJuly  RainyDaysJuly  TotalRainfallAug  \\\n",
       "Taluka                                                                         \n",
       "Gangapur        5.100000         177.150000      10.300000         96.075000   \n",
       "Kannad          6.444444         249.694444      13.444444        138.583333   \n",
       "Khuldabad       9.111111         161.388889      14.222222        138.833333   \n",
       "Sillod          6.800000         225.325000      12.600000        143.900000   \n",
       "Vaijapur        7.100000         153.375000      12.200000        121.975000   \n",
       "\n",
       "           RainyDaysAug  ...  2019-06-04_RedEdge  2019-06-09_RedEdge  \\\n",
       "Taluka                   ...                                           \n",
       "Gangapur       9.900000  ...            0.064119            0.072206   \n",
       "Kannad        13.555556  ...            0.060673            0.062046   \n",
       "Khuldabad     11.888889  ...            0.064566            0.065785   \n",
       "Sillod        12.400000  ...            0.063472            0.065785   \n",
       "Vaijapur      10.800000  ...            0.058226            0.068279   \n",
       "\n",
       "           2019-06-14_RedEdge  2019-08-23_RedEdge  2019-09-22_RedEdge  \\\n",
       "Taluka                                                                  \n",
       "Gangapur             0.068349            0.282570            0.382768   \n",
       "Kannad               0.058194            0.354272            0.417935   \n",
       "Khuldabad            0.068041            0.223602            0.403111   \n",
       "Sillod               0.065496            0.226933            0.399355   \n",
       "Vaijapur             0.063449            0.237464            0.389435   \n",
       "\n",
       "           2019-10-02_RedEdge  2019-10-07_RedEdge  2019-10-12_RedEdge  \\\n",
       "Taluka                                                                  \n",
       "Gangapur             0.334540            0.354904            0.330005   \n",
       "Kannad               0.358208            0.378951            0.359543   \n",
       "Khuldabad            0.421573            0.448026            0.299188   \n",
       "Sillod               0.406418            0.435265            0.325152   \n",
       "Vaijapur             0.365430            0.403890            0.334996   \n",
       "\n",
       "           2019-10-17_RedEdge  2019-10-27_RedEdge  \n",
       "Taluka                                             \n",
       "Gangapur             0.291112            0.369715  \n",
       "Kannad               0.315090            0.307837  \n",
       "Khuldabad            0.346125            0.228641  \n",
       "Sillod               0.319093            0.244630  \n",
       "Vaijapur             0.330520            0.360996  \n",
       "\n",
       "[5 rows x 41 columns]"
      ]
     },
     "execution_count": 5,
     "metadata": {},
     "output_type": "execute_result"
    }
   ],
   "source": [
    "data.groupby(['Taluka']).mean()"
   ]
  },
  {
   "cell_type": "code",
   "execution_count": 6,
   "id": "0e0e0894",
   "metadata": {},
   "outputs": [
    {
     "data": {
      "text/html": [
       "<div>\n",
       "<style scoped>\n",
       "    .dataframe tbody tr th:only-of-type {\n",
       "        vertical-align: middle;\n",
       "    }\n",
       "\n",
       "    .dataframe tbody tr th {\n",
       "        vertical-align: top;\n",
       "    }\n",
       "\n",
       "    .dataframe thead th {\n",
       "        text-align: right;\n",
       "    }\n",
       "</style>\n",
       "<table border=\"1\" class=\"dataframe\">\n",
       "  <thead>\n",
       "    <tr style=\"text-align: right;\">\n",
       "      <th></th>\n",
       "      <th>2019-06-04_LSWI</th>\n",
       "    </tr>\n",
       "  </thead>\n",
       "  <tbody>\n",
       "    <tr>\n",
       "      <th>count</th>\n",
       "      <td>123.000000</td>\n",
       "    </tr>\n",
       "    <tr>\n",
       "      <th>mean</th>\n",
       "      <td>-0.079932</td>\n",
       "    </tr>\n",
       "    <tr>\n",
       "      <th>std</th>\n",
       "      <td>0.045372</td>\n",
       "    </tr>\n",
       "    <tr>\n",
       "      <th>min</th>\n",
       "      <td>-0.155696</td>\n",
       "    </tr>\n",
       "    <tr>\n",
       "      <th>25%</th>\n",
       "      <td>-0.119379</td>\n",
       "    </tr>\n",
       "    <tr>\n",
       "      <th>50%</th>\n",
       "      <td>-0.087254</td>\n",
       "    </tr>\n",
       "    <tr>\n",
       "      <th>75%</th>\n",
       "      <td>-0.050398</td>\n",
       "    </tr>\n",
       "    <tr>\n",
       "      <th>max</th>\n",
       "      <td>0.108798</td>\n",
       "    </tr>\n",
       "  </tbody>\n",
       "</table>\n",
       "</div>"
      ],
      "text/plain": [
       "       2019-06-04_LSWI\n",
       "count       123.000000\n",
       "mean         -0.079932\n",
       "std           0.045372\n",
       "min          -0.155696\n",
       "25%          -0.119379\n",
       "50%          -0.087254\n",
       "75%          -0.050398\n",
       "max           0.108798"
      ]
     },
     "execution_count": 6,
     "metadata": {},
     "output_type": "execute_result"
    }
   ],
   "source": [
    "data[[\"2019-06-04_LSWI\"]].describe()"
   ]
  },
  {
   "cell_type": "code",
   "execution_count": 7,
   "id": "a558e0f9",
   "metadata": {},
   "outputs": [],
   "source": [
    "import os"
   ]
  },
  {
   "cell_type": "code",
   "execution_count": 8,
   "id": "8774873e",
   "metadata": {},
   "outputs": [],
   "source": [
    "MS=data[['Taluka','Village','RevenueCircle','Yield','2019-06-04_LSWI','2019-06-14_LSWI','2019-08-23_LSWI','2019-09-22_LSWI',\n",
    " '2019-10-02_LSWI','2019-10-07_LSWI','2019-10-12_LSWI','2019-10-17_LSWI','2019-06-04_NDVI','2019-06-14_NDVI','2019-08-23_NDVI','2019-09-22_NDVI','2019-10-02_NDVI','2019-10-12_NDVI','2019-10-17_NDVI',\n",
    "'2019-06-04_RedEdge', '2019-06-14_RedEdge', '2019-08-23_RedEdge', '2019-09-22_RedEdge','2019-10-02_RedEdge',\n",
    "'2019-10-07_RedEdge', '2019-10-12_RedEdge','2019-10-17_RedEdge']]"
   ]
  },
  {
   "cell_type": "code",
   "execution_count": 9,
   "id": "b99e94b7",
   "metadata": {},
   "outputs": [
    {
     "name": "stderr",
     "output_type": "stream",
     "text": [
      "C:\\Users\\GIPE_G~1\\AppData\\Local\\Temp/ipykernel_20388/1154299107.py:3: FutureWarning: Dropping invalid columns in DataFrameGroupBy.transform is deprecated. In a future version, a TypeError will be raised. Before calling .transform, select only columns which should be valid for the transforming function.\n",
      "  g11=g.transform(lambda x: x.fillna(x.mean()))\n",
      "C:\\Users\\GIPE_G~1\\AppData\\Local\\Temp/ipykernel_20388/1154299107.py:6: FutureWarning: Dropping invalid columns in DataFrameGroupBy.transform is deprecated. In a future version, a TypeError will be raised. Before calling .transform, select only columns which should be valid for the transforming function.\n",
      "  g12=g1.transform(lambda x: x.fillna(x.mean()))\n"
     ]
    }
   ],
   "source": [
    "# Imputation of missing values\n",
    "g = MS.groupby('Village')\n",
    "g11=g.transform(lambda x: x.fillna(x.mean()))\n",
    "g11[['Taluka','Village','RevenueCircle']]=data[['Taluka','Village','RevenueCircle']]\n",
    "g1 = g11.groupby('RevenueCircle')\n",
    "g12=g1.transform(lambda x: x.fillna(x.mean()))"
   ]
  },
  {
   "cell_type": "code",
   "execution_count": 10,
   "id": "f942eb78",
   "metadata": {},
   "outputs": [],
   "source": [
    "g12[['Taluka','Village','Irrigation','RevenueCircle',\n",
    "'Yield','TotalRainfallJune','RainyDaysJune','TotalRainfallJuly','RainyDaysJuly','TotalRainfallAug','RainyDaysAug',\n",
    "'TotalRainfallSep','RainyDaysSep','TotalRainfallOct','RainyDaysOct']]=data[['Taluka','Village','Irrigation','RevenueCircle',\n",
    "'Yield','TotalRainfallJune','RainyDaysJune','TotalRainfallJuly','RainyDaysJuly','TotalRainfallAug','RainyDaysAug',\n",
    "'TotalRainfallSep','RainyDaysSep','TotalRainfallOct','RainyDaysOct']]"
   ]
  },
  {
   "cell_type": "code",
   "execution_count": 11,
   "id": "a2690ae7",
   "metadata": {},
   "outputs": [],
   "source": [
    "g12.to_csv ('D:/ML in R and Python/newcotton.csv', index = False, header=True)"
   ]
  },
  {
   "cell_type": "code",
   "execution_count": 12,
   "id": "b809b6b9",
   "metadata": {},
   "outputs": [],
   "source": [
    "ab=g12.dropna()"
   ]
  },
  {
   "cell_type": "code",
   "execution_count": 13,
   "id": "1561e452",
   "metadata": {},
   "outputs": [],
   "source": [
    "# Define Feature and Labels\n",
    "x = ab.drop(['Yield','Village','RevenueCircle'],axis=1)\n",
    "y = ab[['Yield']]"
   ]
  },
  {
   "cell_type": "code",
   "execution_count": 14,
   "id": "09e9f57b",
   "metadata": {},
   "outputs": [
    {
     "name": "stdout",
     "output_type": "stream",
     "text": [
      "<class 'pandas.core.frame.DataFrame'>\n",
      "Int64Index: 210 entries, 0 to 234\n",
      "Data columns (total 35 columns):\n",
      " #   Column              Non-Null Count  Dtype  \n",
      "---  ------              --------------  -----  \n",
      " 0   2019-06-04_LSWI     210 non-null    float64\n",
      " 1   2019-06-14_LSWI     210 non-null    float64\n",
      " 2   2019-08-23_LSWI     210 non-null    float64\n",
      " 3   2019-09-22_LSWI     210 non-null    float64\n",
      " 4   2019-10-02_LSWI     210 non-null    float64\n",
      " 5   2019-10-07_LSWI     210 non-null    float64\n",
      " 6   2019-10-12_LSWI     210 non-null    float64\n",
      " 7   2019-10-17_LSWI     210 non-null    float64\n",
      " 8   2019-06-04_NDVI     210 non-null    float64\n",
      " 9   2019-06-14_NDVI     210 non-null    float64\n",
      " 10  2019-08-23_NDVI     210 non-null    float64\n",
      " 11  2019-09-22_NDVI     210 non-null    float64\n",
      " 12  2019-10-02_NDVI     210 non-null    float64\n",
      " 13  2019-10-12_NDVI     210 non-null    float64\n",
      " 14  2019-10-17_NDVI     210 non-null    float64\n",
      " 15  2019-06-04_RedEdge  210 non-null    float64\n",
      " 16  2019-06-14_RedEdge  210 non-null    float64\n",
      " 17  2019-08-23_RedEdge  210 non-null    float64\n",
      " 18  2019-09-22_RedEdge  210 non-null    float64\n",
      " 19  2019-10-02_RedEdge  210 non-null    float64\n",
      " 20  2019-10-07_RedEdge  210 non-null    float64\n",
      " 21  2019-10-12_RedEdge  210 non-null    float64\n",
      " 22  2019-10-17_RedEdge  210 non-null    float64\n",
      " 23  Taluka              210 non-null    object \n",
      " 24  Irrigation          210 non-null    object \n",
      " 25  TotalRainfallJune   210 non-null    float64\n",
      " 26  RainyDaysJune       210 non-null    int64  \n",
      " 27  TotalRainfallJuly   210 non-null    float64\n",
      " 28  RainyDaysJuly       210 non-null    int64  \n",
      " 29  TotalRainfallAug    210 non-null    float64\n",
      " 30  RainyDaysAug        210 non-null    int64  \n",
      " 31  TotalRainfallSep    210 non-null    float64\n",
      " 32  RainyDaysSep        210 non-null    int64  \n",
      " 33  TotalRainfallOct    210 non-null    float64\n",
      " 34  RainyDaysOct        210 non-null    int64  \n",
      "dtypes: float64(28), int64(5), object(2)\n",
      "memory usage: 59.1+ KB\n"
     ]
    }
   ],
   "source": [
    "x.info()"
   ]
  },
  {
   "cell_type": "code",
   "execution_count": 15,
   "id": "054c5e66",
   "metadata": {},
   "outputs": [],
   "source": [
    "x=pd.get_dummies(x)"
   ]
  },
  {
   "cell_type": "code",
   "execution_count": 16,
   "id": "a76d1cb7",
   "metadata": {},
   "outputs": [
    {
     "name": "stdout",
     "output_type": "stream",
     "text": [
      "<class 'pandas.core.frame.DataFrame'>\n",
      "Int64Index: 210 entries, 0 to 234\n",
      "Data columns (total 40 columns):\n",
      " #   Column              Non-Null Count  Dtype  \n",
      "---  ------              --------------  -----  \n",
      " 0   2019-06-04_LSWI     210 non-null    float64\n",
      " 1   2019-06-14_LSWI     210 non-null    float64\n",
      " 2   2019-08-23_LSWI     210 non-null    float64\n",
      " 3   2019-09-22_LSWI     210 non-null    float64\n",
      " 4   2019-10-02_LSWI     210 non-null    float64\n",
      " 5   2019-10-07_LSWI     210 non-null    float64\n",
      " 6   2019-10-12_LSWI     210 non-null    float64\n",
      " 7   2019-10-17_LSWI     210 non-null    float64\n",
      " 8   2019-06-04_NDVI     210 non-null    float64\n",
      " 9   2019-06-14_NDVI     210 non-null    float64\n",
      " 10  2019-08-23_NDVI     210 non-null    float64\n",
      " 11  2019-09-22_NDVI     210 non-null    float64\n",
      " 12  2019-10-02_NDVI     210 non-null    float64\n",
      " 13  2019-10-12_NDVI     210 non-null    float64\n",
      " 14  2019-10-17_NDVI     210 non-null    float64\n",
      " 15  2019-06-04_RedEdge  210 non-null    float64\n",
      " 16  2019-06-14_RedEdge  210 non-null    float64\n",
      " 17  2019-08-23_RedEdge  210 non-null    float64\n",
      " 18  2019-09-22_RedEdge  210 non-null    float64\n",
      " 19  2019-10-02_RedEdge  210 non-null    float64\n",
      " 20  2019-10-07_RedEdge  210 non-null    float64\n",
      " 21  2019-10-12_RedEdge  210 non-null    float64\n",
      " 22  2019-10-17_RedEdge  210 non-null    float64\n",
      " 23  TotalRainfallJune   210 non-null    float64\n",
      " 24  RainyDaysJune       210 non-null    int64  \n",
      " 25  TotalRainfallJuly   210 non-null    float64\n",
      " 26  RainyDaysJuly       210 non-null    int64  \n",
      " 27  TotalRainfallAug    210 non-null    float64\n",
      " 28  RainyDaysAug        210 non-null    int64  \n",
      " 29  TotalRainfallSep    210 non-null    float64\n",
      " 30  RainyDaysSep        210 non-null    int64  \n",
      " 31  TotalRainfallOct    210 non-null    float64\n",
      " 32  RainyDaysOct        210 non-null    int64  \n",
      " 33  Taluka_Gangapur     210 non-null    uint8  \n",
      " 34  Taluka_Kannad       210 non-null    uint8  \n",
      " 35  Taluka_Khuldabad    210 non-null    uint8  \n",
      " 36  Taluka_Sillod       210 non-null    uint8  \n",
      " 37  Taluka_Vaijapur     210 non-null    uint8  \n",
      " 38  Irrigation_No       210 non-null    uint8  \n",
      " 39  Irrigation_Yes      210 non-null    uint8  \n",
      "dtypes: float64(28), int64(5), uint8(7)\n",
      "memory usage: 57.2 KB\n"
     ]
    }
   ],
   "source": [
    "x.info()"
   ]
  },
  {
   "cell_type": "code",
   "execution_count": 17,
   "id": "cca546cc",
   "metadata": {},
   "outputs": [
    {
     "name": "stdout",
     "output_type": "stream",
     "text": [
      "<class 'pandas.core.frame.DataFrame'>\n",
      "Int64Index: 210 entries, 0 to 234\n",
      "Data columns (total 1 columns):\n",
      " #   Column  Non-Null Count  Dtype  \n",
      "---  ------  --------------  -----  \n",
      " 0   Yield   210 non-null    float64\n",
      "dtypes: float64(1)\n",
      "memory usage: 3.3 KB\n"
     ]
    }
   ],
   "source": [
    "y.info()"
   ]
  },
  {
   "cell_type": "code",
   "execution_count": 18,
   "id": "ae98f610",
   "metadata": {},
   "outputs": [],
   "source": [
    "from sklearn.preprocessing import StandardScaler\n",
    "sc_x = StandardScaler()\n",
    "sc_y = StandardScaler()\n",
    "x = sc_x.fit_transform(x)\n",
    "y = sc_y.fit_transform(y)"
   ]
  },
  {
   "cell_type": "code",
   "execution_count": 19,
   "id": "888e7205",
   "metadata": {},
   "outputs": [],
   "source": [
    "from sklearn.model_selection import train_test_split\n",
    "x_train, x_test, y_train, y_test = train_test_split(x, y, test_size = 0.4, random_state = 123)\n",
    "x_test, x_val, y_test, y_val = train_test_split(x_test, y_test, test_size = 0.5, random_state = 123)"
   ]
  },
  {
   "cell_type": "code",
   "execution_count": 20,
   "id": "fdbf427b",
   "metadata": {},
   "outputs": [
    {
     "name": "stdout",
     "output_type": "stream",
     "text": [
      "210 126 210 126 42 42 42 42\n"
     ]
    }
   ],
   "source": [
    "print(len(x),len(x_train),len(y),len(y_train),len(x_test),len(y_test),len(x_val),len(y_val))"
   ]
  },
  {
   "cell_type": "code",
   "execution_count": 21,
   "id": "e6f6cc3c",
   "metadata": {},
   "outputs": [
    {
     "name": "stderr",
     "output_type": "stream",
     "text": [
      "C:\\Users\\gipe_geo2\\anaconda3.2\\lib\\site-packages\\sklearn\\utils\\validation.py:63: DataConversionWarning: A column-vector y was passed when a 1d array was expected. Please change the shape of y to (n_samples, ), for example using ravel().\n",
      "  return f(*args, **kwargs)\n"
     ]
    },
    {
     "data": {
      "text/plain": [
       "SVR()"
      ]
     },
     "execution_count": 21,
     "metadata": {},
     "output_type": "execute_result"
    }
   ],
   "source": [
    "from sklearn.svm import SVR\n",
    "svr = SVR(kernel = 'rbf')\n",
    "svr.fit(x_train,y_train)"
   ]
  },
  {
   "cell_type": "code",
   "execution_count": 22,
   "id": "98bb30d4",
   "metadata": {},
   "outputs": [],
   "source": [
    "predictions = svr.predict(x_test)"
   ]
  },
  {
   "cell_type": "code",
   "execution_count": 22,
   "id": "63558307",
   "metadata": {},
   "outputs": [
    {
     "data": {
      "text/plain": [
       "Text(0, 0.5, 'Predicted Y')"
      ]
     },
     "execution_count": 22,
     "metadata": {},
     "output_type": "execute_result"
    },
    {
     "data": {
      "image/png": "[encoded data removed]",
      "text/plain": [
       "<Figure size 432x288 with 1 Axes>"
      ]
     },
     "metadata": {
      "needs_background": "light"
     },
     "output_type": "display_data"
    }
   ],
   "source": [
    "plt.scatter(y_test,predictions)\n",
    "plt.xlabel('Y Test')\n",
    "plt.ylabel('Predicted Y')"
   ]
  },
  {
   "cell_type": "code",
   "execution_count": 23,
   "id": "a51ad44d",
   "metadata": {},
   "outputs": [
    {
     "name": "stdout",
     "output_type": "stream",
     "text": [
      "MAE: 0.7733235182462117\n",
      "MSE: 0.9573544360341915\n",
      "RMSE: 0.9784449069999759\n",
      "r2 0.11649450982303178\n"
     ]
    }
   ],
   "source": [
    "#Evaluating the Model\n",
    "#Let's evaluate our model performance by calculating the residual sum of squares and the explained variance score (R^2).\n",
    "\n",
    "#Calculate the Mean Absolute Error, Mean Squared Error, and the Root Mean Squared Error.\n",
    "# R square\n",
    "from sklearn.metrics import mean_absolute_error, mean_squared_error,r2_score\n",
    "\n",
    "print('MAE:', mean_absolute_error(y_test, predictions))\n",
    "print('MSE:', mean_squared_error(y_test, predictions))\n",
    "print('RMSE:', np.sqrt(metrics.mean_squared_error(y_test, predictions)))\n",
    "print ('r2',r2_score(y_test, predictions ))"
   ]
  },
  {
   "cell_type": "code",
   "execution_count": 31,
   "id": "e1939c18",
   "metadata": {},
   "outputs": [
    {
     "name": "stdout",
     "output_type": "stream",
     "text": [
      "MAE: 0.36913801426619913\n",
      "MSE: 0.38681177963039665\n",
      "RMSE: 0.6219419423309516\n",
      "R2: 0.6290885454553361\n"
     ]
    },
    {
     "data": {
      "image/png": "[encoded data removed]",
      "text/plain": [
       "<Figure size 432x288 with 1 Axes>"
      ]
     },
     "metadata": {
      "needs_background": "light"
     },
     "output_type": "display_data"
    }
   ],
   "source": [
    "predictions = svr.predict(x_train)\n",
    "plt.scatter(y_train,predictions)\n",
    "plt.xlabel('Y Train')\n",
    "plt.ylabel('Predicted Y of Train')\n",
    "#Evaluating the Model\n",
    "#Let's evaluate our model performance by calculating the residual sum of squares and the explained variance score (R^2).\n",
    "#Calculate the Mean Absolute Error, Mean Squared Error, and the Root Mean Squared Error.\n",
    "from sklearn import metrics\n",
    "print('MAE:', metrics.mean_absolute_error(y_train, predictions))\n",
    "print('MSE:', metrics.mean_squared_error(y_train, predictions))\n",
    "print('RMSE:', np.sqrt(metrics.mean_squared_error(y_train, predictions)))\n",
    "print('R2:', r2_score(y_train,predictions))"
   ]
  },
  {
   "cell_type": "code",
   "execution_count": null,
   "id": "05809a0b",
   "metadata": {},
   "outputs": [],
   "source": []
  }
 ],
 "metadata": {
  "kernelspec": {
   "display_name": "Python 3 (ipykernel)",
   "language": "python",
   "name": "python3"
  },
  "language_info": {
   "codemirror_mode": {
    "name": "ipython",
    "version": 3
   },
   "file_extension": ".py",
   "mimetype": "text/x-python",
   "name": "python",
   "nbconvert_exporter": "python",
   "pygments_lexer": "ipython3",
   "version": "3.9.7"
  }
 },
 "nbformat": 4,
 "nbformat_minor": 5
}
